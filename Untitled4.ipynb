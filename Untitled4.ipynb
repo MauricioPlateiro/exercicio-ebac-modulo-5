{
  "nbformat": 4,
  "nbformat_minor": 0,
  "metadata": {
    "colab": {
      "provenance": []
    },
    "kernelspec": {
      "name": "python3",
      "display_name": "Python 3"
    },
    "language_info": {
      "name": "python"
    }
  },
  "cells": [
    {
      "cell_type": "code",
      "execution_count": 1,
      "metadata": {
        "colab": {
          "base_uri": "https://localhost:8080/"
        },
        "id": "IOYrfg2LCkJk",
        "outputId": "2fc2e226-1d8f-4133-d68b-c90c9d961c93"
      },
      "outputs": [
        {
          "name": "stdout",
          "output_type": "stream",
          "text": [
            "Digite um numero: 4\n",
            "Digite o outro numero: 9\n",
            "Digite o operador (+-/*): *\n",
            "4.0 * 9.0 = 36.0\n",
            "Sair da calculadora? [s]im: s\n"
          ]
        }
      ],
      "source": [
        "while True:\n",
        "    numero_1 = input(\"Digite um numero: \")\n",
        "    numero_2 = input(\"Digite o outro numero: \")\n",
        "    operador = input(\"Digite o operador (+-/*): \")\n",
        "\n",
        "    try:\n",
        "        nun_1_float = float(numero_1)\n",
        "        nun_2_float = float(numero_2)\n",
        "        numeros_validos = True\n",
        "    except ValueError:\n",
        "        numeros_validos = False\n",
        "        print(\"Um dos números digitados é inválido.\")\n",
        "        continue\n",
        "\n",
        "    if operador not in \"+-/*\":\n",
        "        print(\"Operador Inválido.\")\n",
        "        continue\n",
        "    if len(operador) > 1:\n",
        "        print(\"Digite apenas um operador!\")\n",
        "        continue\n",
        "\n",
        "    if operador == \"+\":\n",
        "        print(f\"{nun_1_float} + {nun_2_float} = {nun_1_float + nun_2_float}\")\n",
        "\n",
        "    elif operador == \"-\":\n",
        "        print(f\"{nun_1_float} - {nun_2_float} = {nun_1_float - nun_2_float}\")\n",
        "\n",
        "    elif operador == \"/\":\n",
        "        if nun_2_float == 0:\n",
        "            print(\"Erro: Divisão por zero.\")\n",
        "            continue\n",
        "        print(f\"{nun_1_float} / {nun_2_float} = {nun_1_float / nun_2_float}\")\n",
        "\n",
        "    elif operador == \"*\":\n",
        "        print(f\"{nun_1_float} * {nun_2_float} = {nun_1_float * nun_2_float}\")\n",
        "\n",
        "    sair = input(\"Sair da calculadora? [s]im: \").lower()\n",
        "    if sair.startswith(\"s\"):\n",
        "        break\n"
      ]
    }
  ]
}